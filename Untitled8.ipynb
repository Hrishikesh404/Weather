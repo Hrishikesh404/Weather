{
  "nbformat": 4,
  "nbformat_minor": 0,
  "metadata": {
    "colab": {
      "provenance": [],
      "authorship_tag": "ABX9TyMpvzTSCdslHqs1cj5xCPBq",
      "include_colab_link": true
    },
    "kernelspec": {
      "name": "python3",
      "display_name": "Python 3"
    },
    "language_info": {
      "name": "python"
    }
  },
  "cells": [
    {
      "cell_type": "markdown",
      "metadata": {
        "id": "view-in-github",
        "colab_type": "text"
      },
      "source": [
        "<a href=\"https://colab.research.google.com/github/Hrishikesh404/Weather/blob/main/Untitled8.ipynb\" target=\"_parent\"><img src=\"https://colab.research.google.com/assets/colab-badge.svg\" alt=\"Open In Colab\"/></a>"
      ]
    },
    {
      "cell_type": "code",
      "execution_count": null,
      "metadata": {
        "id": "lcC11zBxsL2o"
      },
      "outputs": [],
      "source": [
        "\n",
        "with open(\"input.txt\", \"r\") as file:\n",
        "    for line in file:\n",
        "        a, b, c = map(float, line.split())\n",
        "\n",
        "\n",
        "        discriminant = b**2 - 4*a*c\n",
        "\n",
        "        if discriminant > 0:\n",
        "            root1 = (-b + discriminant**0.5) / (2*a)\n",
        "            root2 = (-b - discriminant**0.5) / (2*a)\n",
        "            print(f\"Roots for {a}x² + {b}x + {c} = 0: {root1}, {root2}\")\n",
        "        elif discriminant == 0:\n",
        "            root = -b / (2*a)\n",
        "            print(f\"Root for {a}x² + {b}x + {c} = 0: {root}\")\n",
        "        else:\n",
        "            print(f\"No real roots for {a}x² + {b}x + {c} = 0\")\n",
        "\n",
        "\n"
      ]
    }
  ]
}